{
 "cells": [
  {
   "cell_type": "markdown",
   "metadata": {},
   "source": [
    "Rod-coil自洽场模型及算法"
   ]
  },
  {
   "cell_type": "markdown",
   "metadata": {},
   "source": [
    "1.方程介绍：  \n",
    "\n",
    "在Rod-coil体系中，对Rod段使用蠕虫状链模型，对coil段使用Gauss链模型处理之后，可以用正向传播子$q_A(r,s),q_B(r,u,s)$与逆向传播子$q_A^{\\dagger}(r,s)$与$q_B^{\\dagger}(r,u,s)$来描述Rod-coil系统，其中$q_A(r,s)$表示长度为$s$的$A$段高分子在外场作用下落在空间$r$的概率，$q_B(r,u,s)$表示长度为$s$、指向为$u$的$B$段高分子在外场作用下落在空间$r$的概率。"
   ]
  },
  {
   "cell_type": "markdown",
   "metadata": {},
   "source": [
    "![](./picture_a.png)"
   ]
  },
  {
   "cell_type": "markdown",
   "metadata": {},
   "source": [
    "正向传播子$q_A(r,s),q_B(r,u,s)$满足如下方程：\n",
    "\n",
    "$$\n",
    "\\frac{\\partial}{\\partial s}q_A(r,s)=\\nabla_r^2q_A(r,s)-W_A(r)q_A(r,s),\\quad 0\\le s\\le f\n",
    "$$\n",
    "\n",
    "$$\n",
    "\\frac{\\partial}{\\partial s}q_B(r,u,s)=-\\beta u\\cdot\\nabla_rq_B(r,u,s)-\\left(W_B(r)-M(r):\\left[uu-\\frac{1}{3}I\\right]\\right)q_B(r,u,s)+\\frac{1}{2\\lambda}\\nabla_u^2q_B(r,u,s),\\quad f\\le s\\le1\n",
    "$$\n",
    "\n",
    "对应的初值分别为：\n",
    "\n",
    "$$\n",
    "q_A(r,0)=1,\\quad q_B(r,u,f)=\\frac{q_A(r,f)}{4\\pi}\n",
    "$$"
   ]
  },
  {
   "cell_type": "markdown",
   "metadata": {},
   "source": [
    "![](./picture_b.png)"
   ]
  },
  {
   "cell_type": "markdown",
   "metadata": {},
   "source": [
    "类似的，逆向传播子$q_A^{\\dagger}(r,s)$与$q_B^{\\dagger}(r,u,s)$满足如下方程：\n",
    "\n",
    "$$\n",
    "\\frac{\\partial}{\\partial s}q_B^{\\dagger}(r,u,s)=\\beta u\\cdot\\nabla_rq_B^{\\dagger}(r,u,s)-\\left(W_B(r)-M(r):\\left[uu-\\frac{1}{3}I\\right]\\right)q_B^{\\dagger}(r,u,s)+\\frac{1}{2\\lambda}\\nabla_u^2q_B^{\\dagger}(r,u,s),\\quad f\\le s\\le1-f\n",
    "$$\n",
    "\n",
    "$$\n",
    "\\frac{\\partial}{\\partial s}q_A^{\\dagger}(r,s)=\\nabla_r^2q_A(r,s)-W_A(r)q_A^{\\dagger}(r,s),\\quad 1-f\\le s\\le 1\n",
    "$$\n",
    "\n",
    "且对应的初值分别为：\n",
    "\n",
    "$$\n",
    "q_B^{\\dagger}(r,u,0)=\\frac{1}{4\\pi},\\quad q_A^{\\dagger}(r,1-f)=\\int q_B^{\\dagger}(r,u,1-f)\\mathrm{d}u\n",
    "$$\n",
    "\n",
    "其中$W_A,W_B$分别定义为：\n",
    "\n",
    "$$\n",
    "W_A(r)=\\mu_+(r)-\\mu_-(r),\\quad W_B(r)=\\mu_+(r)+\\mu_-(r),\n",
    "$$"
   ]
  },
  {
   "cell_type": "markdown",
   "metadata": {},
   "source": [
    "哈密尔顿量(系统的能量)表示为：\n",
    "\n",
    "$$\n",
    "H(\\mu_+,\\mu_-,M) = \\frac{n}{\\chi NV}\\int \\mu_-^2(r) \\mathrm{d}r-\\frac{n}{V}\\int \\mu_+(r)\\mathrm{d}r +\\frac{n}{2\\eta NV}\\int M(r):M(r) \\mathrm{d}r -log(\\frac{Q^n}{n!})\n",
    "$$"
   ]
  },
  {
   "cell_type": "markdown",
   "metadata": {},
   "source": [
    "单链配分函数表示为：  \n",
    "\n",
    "$$\n",
    "Q=\\frac{1}{V}\\int \\mathrm{d}r \\int \\mathrm{d}u q_B^{\\dagger}(r,u,1-f)q_A(r,f)\n",
    "$$"
   ]
  },
  {
   "cell_type": "markdown",
   "metadata": {},
   "source": [
    "$A$粒子和$B$粒子在空间$r$的密度$\\phi_A(r)$和$\\phi_B(r)$表示为： \n",
    "\n",
    "$$\n",
    "\\phi_A(r)=\\frac{1}{Q}\\int_0^f\\mathrm{d}sq_A(r,s)q_A^{\\dagger}(r,1-s)\n",
    "$$\n",
    "\n",
    "$$\n",
    "\\phi_B(r)=\\frac{4\\pi}{Q}\\int_f^1\\mathrm{d}s\\int\\mathrm{d}uq_B(r,u,s)q_B^{\\dagger}(r,u,1-s)\n",
    "$$"
   ]
  },
  {
   "cell_type": "markdown",
   "metadata": {},
   "source": [
    "$B$粒子的指向序参量$S(r)$表示为  \n",
    "\n",
    "$$\n",
    "S(r)=\\frac{4\\pi}{Q}\\int_f^1\\mathrm{d}s\\int\\mathrm{d}uq_B(r,u,s)\\left(uu-\\frac{1}{3}I\\right)q_B^{\\dagger}(r,u,1-s)\n",
    "$$"
   ]
  },
  {
   "cell_type": "markdown",
   "metadata": {},
   "source": [
    "2.预备知识"
   ]
  },
  {
   "cell_type": "markdown",
   "metadata": {},
   "source": [
    "2.1 Fourier展开  \n",
    "\n",
    "设二元函数$f(s,r)$平方可积，且关于空间$r$具有周期性(D为周期)\n",
    "\n",
    "$$\n",
    "f(s,r+D)=f(s,r)\n",
    "$$\n",
    "\n",
    "那么$f(s,r)$可以使用Fourier级数进行展开\n",
    "\n",
    "$$\n",
    "f(s,r)\\cong\n",
    "\\begin{cases}\n",
    "\\sum\\limits_{k=-\\frac{N}{2}+1}^{\\frac{N}{2}}\\hat{f}_k(s)e^{ikr}, & N为偶数\\\\\n",
    "\\sum\\limits_{k=-\\frac{N-1}{2}+1}^{\\frac{N-1}{2}}\\hat{f}_k(s)e^{ikr}, & N为奇数\n",
    "\\end{cases}\n",
    "$$\n",
    "\n",
    "Fourier系数$\\hat{f}_k(s)$为：\n",
    "\n",
    "$$\n",
    "\\hat{f}_k(s)=\\frac{1}{D}\\int_D f(r,s)e^{-ikr}\\mathrm{d}r\n",
    "$$\n",
    "\n",
    "函数$f(r,s)$求导具有如下性质：\n",
    "\n",
    "$$\n",
    "\\nabla f(r,s)=\\sum\\limits_k ik\\hat{f}_k(s)e^{ikr}\n",
    "$$\n",
    "\n",
    "$$\n",
    "\\Delta f(r,s)=-\\sum\\limits_k k^2\\hat{f}_k(s)e^{ikr}\n",
    "$$"
   ]
  },
  {
   "cell_type": "markdown",
   "metadata": {},
   "source": [
    "2.2球谐函数展开  \n",
    "\n",
    "(1) Legendre多项式\n",
    "\n",
    "$$\n",
    "P_l(x)=\\frac{1}{2^{l}l!}\\frac{d^l}{d{x}^l}(x^2-1)^l\\quad l\\ge 0\n",
    "$$\n",
    "\n",
    "(2) 伴随Legendre多项式  \n",
    "\n",
    "$$\n",
    "P_l^m(x)=(1-x^2)^{\\frac{m}{2}}\\frac{d^m}{dx^m}P_l(x)\\quad l,m\\ge0\n",
    "$$\n",
    "\n",
    "(3)单位球面$S$上任意平方可积的函数$g(u)$,($u\\in S$ )都可以用球谐函数展开为：\n",
    "\n",
    "$$\n",
    "g(u)=\\sum\\limits_{l=0}^{\\infty}\\sum\\limits_{m=-l}^{l}g_{lm}Y_{l,m}(u)\n",
    "$$\n",
    "\n",
    "其中$Y_{l,m}$是球谐函数，对应的系数是：\n",
    "\n",
    "$$\n",
    "g_{lm}=\\int \\mathrm{d}u g(u)Y_{l,m}^{*}(u)=\\int_0^{\\pi}sin\\theta \\mathrm{d}\\theta\\int_0^{2\\pi}\\mathrm{d}\\phi g(\\theta,\\phi)Y_{l,m}^{*}(\\theta,\\phi)\n",
    "$$\n",
    "\n",
    "若将单位球面$S$上的点$u$用球面坐标表示，则有\n",
    "\n",
    "$$\n",
    "u=(x,y,z)^T=(cos\\phi sin\\theta,sin\\phi sin\\theta, cos\\phi)^T,\\quad\\phi\\in[0,2\\pi),\\phi\\in[0,\\pi]\n",
    "$$\n",
    "\n",
    "于是对于任意的整数$l\\ge0,m\\le l,Y_{l,m}$可写成\n",
    "\n",
    "$$\n",
    "Y_{l,m}(u)=Y_{l,m}(\\phi,\\theta)=(-1)^m\\left[\\frac{2l+1}{4\\pi}\\frac{(l-m)!}{(l+m)!}\\right]^{\\frac{1}{2}}P_l^{m}(cos\\theta)e^{im\\phi}\n",
    "$$"
   ]
  },
  {
   "cell_type": "markdown",
   "metadata": {},
   "source": []
  },
  {
   "cell_type": "code",
   "execution_count": null,
   "metadata": {},
   "outputs": [],
   "source": []
  }
 ],
 "metadata": {
  "kernelspec": {
   "display_name": "Python 2",
   "language": "python",
   "name": "python2"
  },
  "language_info": {
   "codemirror_mode": {
    "name": "ipython",
    "version": 2
   },
   "file_extension": ".py",
   "mimetype": "text/x-python",
   "name": "python",
   "nbconvert_exporter": "python",
   "pygments_lexer": "ipython2",
   "version": "2.7.12"
  }
 },
 "nbformat": 4,
 "nbformat_minor": 2
}
